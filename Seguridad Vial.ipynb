{
 "cells": [
  {
   "cell_type": "markdown",
   "id": "de525dbd-90e9-4390-b164-e2f341e0b998",
   "metadata": {},
   "source": [
    "# Seguridad Vial"
   ]
  },
  {
   "cell_type": "code",
   "execution_count": 2,
   "id": "6e0850e2-bfbe-4f15-9e1e-f9fd97950784",
   "metadata": {},
   "outputs": [],
   "source": [
    "import pandas as pd\n",
    "import numpy as np"
   ]
  },
  {
   "cell_type": "code",
   "execution_count": 47,
   "id": "3a8260ea-223a-4982-8277-80911c707c69",
   "metadata": {},
   "outputs": [],
   "source": [
    "import seaborn as sns"
   ]
  },
  {
   "cell_type": "code",
   "execution_count": 48,
   "id": "76ed9bf0-f96b-4738-9885-07f9977c8578",
   "metadata": {},
   "outputs": [],
   "source": [
    "import matplotlib.pyplot as plt"
   ]
  },
  {
   "cell_type": "code",
   "execution_count": 67,
   "id": "d1f7835f-52ff-40df-ae2f-8e4bb14e9b96",
   "metadata": {},
   "outputs": [],
   "source": [
    "pd.set_option('display.max_columns', None)"
   ]
  },
  {
   "cell_type": "markdown",
   "id": "d979564d-75ab-46fa-93df-fadd83e8ca04",
   "metadata": {},
   "source": [
    "## Cargando datos"
   ]
  },
  {
   "cell_type": "code",
   "execution_count": 30,
   "id": "13ad8292-f894-4d67-b97b-34c275c24f02",
   "metadata": {},
   "outputs": [],
   "source": [
    "df = pd.read_csv('data/external/siniestros_individuales_conaset/individuales_biobio_2020.csv')"
   ]
  },
  {
   "cell_type": "code",
   "execution_count": 69,
   "id": "7799ab04-3777-4f8f-a3c2-a9e86c95a2bb",
   "metadata": {},
   "outputs": [
    {
     "data": {
      "text/html": [
       "<div>\n",
       "<style scoped>\n",
       "    .dataframe tbody tr th:only-of-type {\n",
       "        vertical-align: middle;\n",
       "    }\n",
       "\n",
       "    .dataframe tbody tr th {\n",
       "        vertical-align: top;\n",
       "    }\n",
       "\n",
       "    .dataframe thead th {\n",
       "        text-align: right;\n",
       "    }\n",
       "</style>\n",
       "<table border=\"1\" class=\"dataframe\">\n",
       "  <thead>\n",
       "    <tr style=\"text-align: right;\">\n",
       "      <th></th>\n",
       "      <th>X</th>\n",
       "      <th>Y</th>\n",
       "      <th>FID</th>\n",
       "      <th>COD_REG</th>\n",
       "      <th>REGION</th>\n",
       "      <th>CUT</th>\n",
       "      <th>COMUNA</th>\n",
       "      <th>CALLE_UNO</th>\n",
       "      <th>CALLE_DOS</th>\n",
       "      <th>NUMERO</th>\n",
       "      <th>DIR_GEOCOD</th>\n",
       "      <th>LAT</th>\n",
       "      <th>LNG</th>\n",
       "      <th>VAL_COM</th>\n",
       "      <th>TIPO</th>\n",
       "      <th>Año</th>\n",
       "      <th>Idaccident</th>\n",
       "      <th>Fecha</th>\n",
       "      <th>Tipo_Accid</th>\n",
       "      <th>Tipo__CONA</th>\n",
       "      <th>Zona</th>\n",
       "      <th>Causa__CON</th>\n",
       "      <th>Causa</th>\n",
       "      <th>Fallecidos</th>\n",
       "      <th>Graves</th>\n",
       "      <th>Menos_Grav</th>\n",
       "      <th>Leves</th>\n",
       "      <th>Hora</th>\n",
       "      <th>fecha_hora</th>\n",
       "      <th>dow</th>\n",
       "      <th>hour</th>\n",
       "    </tr>\n",
       "  </thead>\n",
       "  <tbody>\n",
       "    <tr>\n",
       "      <th>4430</th>\n",
       "      <td>-72.691502</td>\n",
       "      <td>-37.493878</td>\n",
       "      <td>4431</td>\n",
       "      <td>8</td>\n",
       "      <td>REGION BIO BIO</td>\n",
       "      <td>8306</td>\n",
       "      <td>NACIMIENTO</td>\n",
       "      <td>ALONSO DE RIVERA</td>\n",
       "      <td></td>\n",
       "      <td>1532</td>\n",
       "      <td>Alonso de Rivera, Avenida Julio Hemmelmann, Po...</td>\n",
       "      <td>-37.493878</td>\n",
       "      <td>-72.691502</td>\n",
       "      <td>1</td>\n",
       "      <td>node-highway-bus_stop</td>\n",
       "      <td>2020</td>\n",
       "      <td>1263296</td>\n",
       "      <td>2020/02/11</td>\n",
       "      <td>ATROPELLO</td>\n",
       "      <td>ATROPELLO</td>\n",
       "      <td>URBANA</td>\n",
       "      <td>IMPRUDENCIA DEL PEATON</td>\n",
       "      <td>PEATON CRUZA CALZADA FORMA SORPRESIVA O DESCUI...</td>\n",
       "      <td>0</td>\n",
       "      <td>1</td>\n",
       "      <td>0</td>\n",
       "      <td>0</td>\n",
       "      <td>20:15:00</td>\n",
       "      <td>2020-02-11 20:15:00</td>\n",
       "      <td>1</td>\n",
       "      <td>20</td>\n",
       "    </tr>\n",
       "  </tbody>\n",
       "</table>\n",
       "</div>"
      ],
      "text/plain": [
       "              X          Y   FID  COD_REG          REGION   CUT      COMUNA  \\\n",
       "4430 -72.691502 -37.493878  4431        8  REGION BIO BIO  8306  NACIMIENTO   \n",
       "\n",
       "             CALLE_UNO CALLE_DOS  NUMERO  \\\n",
       "4430  ALONSO DE RIVERA              1532   \n",
       "\n",
       "                                             DIR_GEOCOD        LAT        LNG  \\\n",
       "4430  Alonso de Rivera, Avenida Julio Hemmelmann, Po... -37.493878 -72.691502   \n",
       "\n",
       "      VAL_COM                   TIPO   Año  Idaccident       Fecha Tipo_Accid  \\\n",
       "4430        1  node-highway-bus_stop  2020     1263296  2020/02/11  ATROPELLO   \n",
       "\n",
       "     Tipo__CONA    Zona              Causa__CON  \\\n",
       "4430  ATROPELLO  URBANA  IMPRUDENCIA DEL PEATON   \n",
       "\n",
       "                                                  Causa  Fallecidos  Graves  \\\n",
       "4430  PEATON CRUZA CALZADA FORMA SORPRESIVA O DESCUI...           0       1   \n",
       "\n",
       "      Menos_Grav  Leves      Hora          fecha_hora  dow  hour  \n",
       "4430           0      0  20:15:00 2020-02-11 20:15:00    1    20  "
      ]
     },
     "execution_count": 69,
     "metadata": {},
     "output_type": "execute_result"
    }
   ],
   "source": [
    "df.sample()"
   ]
  },
  {
   "cell_type": "code",
   "execution_count": 70,
   "id": "cfd8dbcb-1b67-4333-87e3-4214a86a6334",
   "metadata": {},
   "outputs": [
    {
     "data": {
      "text/plain": [
       "0        CONCEPCION\n",
       "1        TALCAHUANO\n",
       "2           HUALPEN\n",
       "3        CONCEPCION\n",
       "4        CONCEPCION\n",
       "           ...     \n",
       "4477     CONCEPCION\n",
       "4478    LOS ANGELES\n",
       "4479        HUALPEN\n",
       "4480     CONCEPCION\n",
       "4481        HUALQUI\n",
       "Name: COMUNA, Length: 4482, dtype: object"
      ]
     },
     "execution_count": 70,
     "metadata": {},
     "output_type": "execute_result"
    }
   ],
   "source": [
    "df['COMUNA']"
   ]
  },
  {
   "cell_type": "code",
   "execution_count": 39,
   "id": "dcd43bd4-1fb3-4e62-9168-5124917b99b7",
   "metadata": {},
   "outputs": [],
   "source": [
    "df['Fecha'] = df['Fecha'].apply(lambda x: x[:10])\n",
    "df['fecha_hora'] = pd.to_datetime(df['Fecha'] + ' ' + df['Hora']) "
   ]
  },
  {
   "cell_type": "code",
   "execution_count": 41,
   "id": "406844c1-312b-48a5-a8bb-788286e6f215",
   "metadata": {},
   "outputs": [],
   "source": [
    "df['dow'] = df['fecha_hora'].dt.dayofweek"
   ]
  },
  {
   "cell_type": "code",
   "execution_count": 43,
   "id": "26cb537f-7856-49d8-9f99-bb45becd9be1",
   "metadata": {},
   "outputs": [],
   "source": [
    "df['hour'] = df['fecha_hora'].dt.hour"
   ]
  },
  {
   "cell_type": "code",
   "execution_count": 52,
   "id": "457309c6-1707-437f-a4fc-cb9cbc119ed7",
   "metadata": {},
   "outputs": [],
   "source": [
    "heatmap_accidentes = pd.pivot_table(values = 'FID', index = 'hour', columns = 'dow', aggfunc = 'count', data = df)\n",
    "heatmap_accidentes.fillna(0, inplace = True)"
   ]
  },
  {
   "cell_type": "code",
   "execution_count": 68,
   "id": "5923fd55-adff-46bc-8b75-d5ba5fe269ef",
   "metadata": {},
   "outputs": [
    {
     "data": {
      "image/png": "[encoded data removed]",
      "text/plain": [
       "<Figure size 720x720 with 2 Axes>"
      ]
     },
     "metadata": {
      "needs_background": "light"
     },
     "output_type": "display_data"
    }
   ],
   "source": [
    "fig, ax = plt.subplots(1,1,figsize = (10, 10))\n",
    "s = sns.heatmap(heatmap_accidentes, xticklabels=['Lun', 'Mar', 'Mie', 'Jue', 'Vie', 'Sab', 'Dom'], ax = ax)\n",
    "s.set(xlabel='Dias de la semana', ylabel='Hora del día')\n",
    "s.set_title('Accidentes por día y hora durante 2020 en la Región de Bio Bio\\n');"
   ]
  },
  {
   "cell_type": "code",
   "execution_count": null,
   "id": "55d23c17-eb3b-4ee8-8528-cca97c440d54",
   "metadata": {},
   "outputs": [],
   "source": []
  }
 ],
 "metadata": {
  "kernelspec": {
   "display_name": "Python 3 (ipykernel)",
   "language": "python",
   "name": "python3"
  },
  "language_info": {
   "codemirror_mode": {
    "name": "ipython",
    "version": 3
   },
   "file_extension": ".py",
   "mimetype": "text/x-python",
   "name": "python",
   "nbconvert_exporter": "python",
   "pygments_lexer": "ipython3",
   "version": "3.8.12"
  }
 },
 "nbformat": 4,
 "nbformat_minor": 5
}
